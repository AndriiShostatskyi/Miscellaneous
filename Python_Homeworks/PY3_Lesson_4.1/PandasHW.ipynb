{
 "cells": [
  {
   "cell_type": "code",
   "execution_count": 2,
   "metadata": {
    "collapsed": true
   },
   "outputs": [],
   "source": [
    "import pandas as pd\n",
    "import numpy as np\n",
    "import matplotlib.pyplot as plt \n",
    "import os"
   ]
  },
  {
   "cell_type": "code",
   "execution_count": null,
   "metadata": {
    "collapsed": true
   },
   "outputs": [],
   "source": []
  },
  {
   "cell_type": "code",
   "execution_count": 3,
   "metadata": {
    "collapsed": false
   },
   "outputs": [],
   "source": [
    "PATH = '/home/adnrii/Desktop/names/' "
   ]
  },
  {
   "cell_type": "code",
   "execution_count": 6,
   "metadata": {
    "collapsed": false
   },
   "outputs": [
    {
     "name": "stdout",
     "output_type": "stream",
     "text": [
      "{'Count': {'Jacob': 227271, 'Michael': 207208, 'Emily': 185356}}\n"
     ]
    }
   ],
   "source": [
    "def top_names(years, cnt = 3):\n",
    "    return pd.concat((pd.read_csv(PATH+'yob'+str(year)+'.txt', names=['Name','Gender','Count']) for year in years)\n",
    "  ).groupby('Name').sum().sort_values(by='Count', ascending=False).head(cnt).to_dict()\n",
    "\n",
    "print (top_names([2012, 2000, 2001, 2003, 2004, 2005, 2006, 2014, 2015]))"
   ]
  },
  {
   "cell_type": "code",
   "execution_count": 24,
   "metadata": {
    "collapsed": false
   },
   "outputs": [
    {
     "name": "stdout",
     "output_type": "stream",
     "text": [
      "{'M': [1883945, 1910876, 1898858], 'F': [1747544, 1777242, 1769325]}\n"
     ]
    }
   ],
   "source": [
    "def birth_dinamic(years):\n",
    "    cols = ['Name','Gender','Count']\n",
    "    F = []\n",
    "    M = []\n",
    "    for y in years:\n",
    "        n = pd.read_csv(PATH+'yob'+str(y)+'.txt', names=cols)\n",
    "        F.append(n[n.Gender=='F'].Count.sum())\n",
    "        M.append(n[n.Gender=='M'].Count.sum())\n",
    "    return {'M': M, 'F': F}\n",
    "\n",
    "print(birth_dinamic([2013, 2014, 2015]))\n",
    "    "
   ]
  },
  {
   "cell_type": "code",
   "execution_count": null,
   "metadata": {
    "collapsed": true
   },
   "outputs": [],
   "source": []
  },
  {
   "cell_type": "code",
   "execution_count": null,
   "metadata": {
    "collapsed": true
   },
   "outputs": [],
   "source": []
  },
  {
   "cell_type": "code",
   "execution_count": null,
   "metadata": {
    "collapsed": true
   },
   "outputs": [],
   "source": []
  }
 ],
 "metadata": {
  "kernelspec": {
   "display_name": "Python 3",
   "language": "python",
   "name": "python3"
  },
  "language_info": {
   "codemirror_mode": {
    "name": "ipython",
    "version": 3
   },
   "file_extension": ".py",
   "mimetype": "text/x-python",
   "name": "python",
   "nbconvert_exporter": "python",
   "pygments_lexer": "ipython3",
   "version": "3.6.0"
  }
 },
 "nbformat": 4,
 "nbformat_minor": 2
}
